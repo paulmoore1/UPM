{
 "cells": [
  {
   "cell_type": "code",
   "execution_count": 2,
   "metadata": {},
   "outputs": [
    {
     "ename": "FileNotFoundError",
     "evalue": "[Errno 2] No such file or directory: 'end_index_lab.npy'",
     "output_type": "error",
     "traceback": [
      "\u001b[0;31m---------------------------------------------------------------------------\u001b[0m",
      "\u001b[0;31mFileNotFoundError\u001b[0m                         Traceback (most recent call last)",
      "\u001b[0;32m<ipython-input-2-9aad733beb68>\u001b[0m in \u001b[0;36m<module>\u001b[0;34m\u001b[0m\n\u001b[1;32m      4\u001b[0m \u001b[0mfea_conc\u001b[0m \u001b[0;34m=\u001b[0m \u001b[0mnp\u001b[0m\u001b[0;34m.\u001b[0m\u001b[0mload\u001b[0m\u001b[0;34m(\u001b[0m\u001b[0;34m\"fea_conc.npy\"\u001b[0m\u001b[0;34m,\u001b[0m \u001b[0mallow_pickle\u001b[0m\u001b[0;34m=\u001b[0m\u001b[0;32mTrue\u001b[0m\u001b[0;34m)\u001b[0m\u001b[0;34m\u001b[0m\u001b[0;34m\u001b[0m\u001b[0m\n\u001b[1;32m      5\u001b[0m \u001b[0mmapping\u001b[0m \u001b[0;34m=\u001b[0m \u001b[0mnp\u001b[0m\u001b[0;34m.\u001b[0m\u001b[0mload\u001b[0m\u001b[0;34m(\u001b[0m\u001b[0;34m\"mapping.npy\"\u001b[0m\u001b[0;34m)\u001b[0m\u001b[0;34m\u001b[0m\u001b[0;34m\u001b[0m\u001b[0m\n\u001b[0;32m----> 6\u001b[0;31m \u001b[0mend_index_lab\u001b[0m \u001b[0;34m=\u001b[0m \u001b[0mlist\u001b[0m\u001b[0;34m(\u001b[0m\u001b[0mnp\u001b[0m\u001b[0;34m.\u001b[0m\u001b[0mload\u001b[0m\u001b[0;34m(\u001b[0m\u001b[0;34m\"end_index_lab.npy\"\u001b[0m\u001b[0;34m)\u001b[0m\u001b[0;34m)\u001b[0m\u001b[0;34m\u001b[0m\u001b[0;34m\u001b[0m\u001b[0m\n\u001b[0m",
      "\u001b[0;32m~/miniconda3/envs/upm/lib/python3.7/site-packages/numpy/lib/npyio.py\u001b[0m in \u001b[0;36mload\u001b[0;34m(file, mmap_mode, allow_pickle, fix_imports, encoding)\u001b[0m\n\u001b[1;32m    426\u001b[0m         \u001b[0mown_fid\u001b[0m \u001b[0;34m=\u001b[0m \u001b[0;32mFalse\u001b[0m\u001b[0;34m\u001b[0m\u001b[0;34m\u001b[0m\u001b[0m\n\u001b[1;32m    427\u001b[0m     \u001b[0;32melse\u001b[0m\u001b[0;34m:\u001b[0m\u001b[0;34m\u001b[0m\u001b[0;34m\u001b[0m\u001b[0m\n\u001b[0;32m--> 428\u001b[0;31m         \u001b[0mfid\u001b[0m \u001b[0;34m=\u001b[0m \u001b[0mopen\u001b[0m\u001b[0;34m(\u001b[0m\u001b[0mos_fspath\u001b[0m\u001b[0;34m(\u001b[0m\u001b[0mfile\u001b[0m\u001b[0;34m)\u001b[0m\u001b[0;34m,\u001b[0m \u001b[0;34m\"rb\"\u001b[0m\u001b[0;34m)\u001b[0m\u001b[0;34m\u001b[0m\u001b[0;34m\u001b[0m\u001b[0m\n\u001b[0m\u001b[1;32m    429\u001b[0m         \u001b[0mown_fid\u001b[0m \u001b[0;34m=\u001b[0m \u001b[0;32mTrue\u001b[0m\u001b[0;34m\u001b[0m\u001b[0;34m\u001b[0m\u001b[0m\n\u001b[1;32m    430\u001b[0m \u001b[0;34m\u001b[0m\u001b[0m\n",
      "\u001b[0;31mFileNotFoundError\u001b[0m: [Errno 2] No such file or directory: 'end_index_lab.npy'"
     ]
    }
   ],
   "source": [
    "import numpy as np\n",
    "import random\n",
    "lab_conc = np.load(\"lab_conc.npy\", allow_pickle=True)\n",
    "fea_conc = np.load(\"fea_conc.npy\", allow_pickle=True)\n",
    "mapping = np.load(\"mapping.npy\")\n",
    "end_index_lab = list(np.load(\"end_index_lab.npy\"))"
   ]
  },
  {
   "cell_type": "code",
   "execution_count": 5,
   "metadata": {},
   "outputs": [
    {
     "data": {
      "text/plain": [
       "(3511,)"
      ]
     },
     "execution_count": 5,
     "metadata": {},
     "output_type": "execute_result"
    }
   ],
   "source": [
    "fea_conc.shape"
   ]
  },
  {
   "cell_type": "code",
   "execution_count": 6,
   "metadata": {},
   "outputs": [
    {
     "data": {
      "text/plain": [
       "(3511,)"
      ]
     },
     "execution_count": 6,
     "metadata": {},
     "output_type": "execute_result"
    }
   ],
   "source": [
    "lab_conc.shape"
   ]
  },
  {
   "cell_type": "code",
   "execution_count": 13,
   "metadata": {},
   "outputs": [],
   "source": [
    "lab_filtered = lab_conc.copy()\n",
    "\n",
    "for idx, sent in enumerate(fea_conc):\n",
    "    fea_length = len(sent)\n",
    "    lab_length = len(lab_conc[idx])\n",
    "    if fea_length < lab_length:\n",
    "        lab_filtered[idx] = lab_conc[idx][0:fea_length]\n",
    "        #print(\"Length mismatch: feat = {}, lab = {}\".format(fea_length, lab_length))"
   ]
  },
  {
   "cell_type": "code",
   "execution_count": 16,
   "metadata": {},
   "outputs": [],
   "source": [
    "fea_cat = np.concatenate(fea_conc)"
   ]
  },
  {
   "cell_type": "code",
   "execution_count": 11,
   "metadata": {},
   "outputs": [],
   "source": [
    "lab_cat = np.concatenate(lab_conc)"
   ]
  },
  {
   "cell_type": "code",
   "execution_count": 14,
   "metadata": {},
   "outputs": [],
   "source": [
    "lab_cat = np.concatenate(lab_filtered)"
   ]
  },
  {
   "cell_type": "code",
   "execution_count": 15,
   "metadata": {},
   "outputs": [
    {
     "data": {
      "text/plain": [
       "(337692,)"
      ]
     },
     "execution_count": 15,
     "metadata": {},
     "output_type": "execute_result"
    }
   ],
   "source": [
    "lab_cat.shape"
   ]
  },
  {
   "cell_type": "code",
   "execution_count": 17,
   "metadata": {},
   "outputs": [
    {
     "data": {
      "text/plain": [
       "(337692, 69)"
      ]
     },
     "execution_count": 17,
     "metadata": {},
     "output_type": "execute_result"
    }
   ],
   "source": [
    "fea_cat.shape"
   ]
  },
  {
   "cell_type": "code",
   "execution_count": 18,
   "metadata": {},
   "outputs": [],
   "source": [
    "lab_conc_lst = np.asarray(lab_conc)"
   ]
  },
  {
   "cell_type": "code",
   "execution_count": 19,
   "metadata": {},
   "outputs": [
    {
     "data": {
      "text/plain": [
       "(3511,)"
      ]
     },
     "execution_count": 19,
     "metadata": {},
     "output_type": "execute_result"
    }
   ],
   "source": [
    "lab_conc_lst.shape"
   ]
  },
  {
   "cell_type": "code",
   "execution_count": 2,
   "metadata": {
    "scrolled": true
   },
   "outputs": [
    {
     "data": {
      "text/plain": [
       "(array([ 1,  2,  3,  4,  5,  6,  7,  8,  9, 10, 11, 12, 13, 14, 15, 16, 17,\n",
       "        18, 19, 20, 21, 22, 23, 24, 25, 26, 27, 28, 29, 30, 31, 32, 33, 34,\n",
       "        35], dtype=int32),\n",
       " array([ 2666,  1397,   114,  3682,     9,   113,  3548,  1153,    21,\n",
       "        17656,  1126,   995,   710,   726,  1184,   496,  1099,  2038,\n",
       "        11134,  1786,  1122,   479,  6360,  2408,  4324,  3860,  1127,\n",
       "         2621,  3653,   870,  5624,   648,  3664,  2110,   505]))"
      ]
     },
     "execution_count": 2,
     "metadata": {},
     "output_type": "execute_result"
    }
   ],
   "source": [
    "(vals, counts) = np.unique(lab_conc, return_counts=True)\n",
    "# Get features of zero-vectors\n",
    "zero_feats = np.where(~mapping.any(axis=1))[0]\n",
    "# Filter only the ones which actually occur in the labels\n",
    "valid_zero_feats = [x for x in vals if x in zero_feats]\n",
    "# Get the index of these in the values list (since some values may be missing)\n",
    "zero_idx = np.nonzero(np.in1d(vals,valid_zero_feats))[0]\n",
    "\n",
    "# Get the target number of counts for these zero-features as the\n",
    "# mean of all the other counts\n",
    "count_nonzero = np.delete(counts, zero_idx)\n",
    "target_counts = int(count_nonzero.mean())\n",
    "# Get the total number of zero-features\n",
    "count_zero_total = counts[zero_idx].sum()\n",
    "\n",
    "# Only remove if we have too many zero features\n",
    "if count_zero_total > target_counts:\n",
    "    # Step size for keeping elements\n",
    "    step = int(count_zero_total/target_counts)\n",
    "    # Get all indices with zero features.\n",
    "    zero_indices = [np.where(lab_conc == zero)[0] for zero in valid_zero_feats]\n",
    "    # Combine all zero indices into one\n",
    "    zero_indices = np.concatenate(zero_indices)\n",
    "    # This is all the zero indices except every step-size one\n",
    "    idx_to_remove = np.delete(zero_indices, np.arange(0, zero_indices.size, step))\n",
    "    # Remove these from the original labels\n",
    "    lab_conc_filtered = np.delete(lab_conc, idx_to_remove)\n",
    "else:\n",
    "    lab_conc_filtered = lab_conc\n",
    "np.unique(lab_conc_filtered, return_counts=True)"
   ]
  },
  {
   "cell_type": "code",
   "execution_count": 16,
   "metadata": {
    "scrolled": true
   },
   "outputs": [
    {
     "name": "stdout",
     "output_type": "stream",
     "text": [
      "[31, 62, 93, 124, 155, 186, 217, 248, 279, 310]\n",
      "[140538, 140663, 140788, 140913, 141038, 141163, 141288, 141413, 141538, 141663]\n",
      "[ 26  27  28  29  30  31  32  33  34  35  36  37  38  39  40  41  42  43\n",
      "  44  46  47  48  49  50  51  52  53  54  55  56  57  58  59  60  61  62\n",
      "  63  64  66  67  68  69  70  71  72  73  74  75  76  77  78  79  80  81\n",
      "  82  83  84  86  87  88  89  90  91  92  93  94  95  96  97  98  99 100\n",
      " 101 102 103 104 106 107 108 109 110 111 112 113 114 115 116 117 118 119\n",
      " 120 121 122 123 124 126 127 128 129 130]\n",
      "[141557 141558 141559 141560 141561 141563 141564 141565 141566 141567\n",
      " 141568 141569 141570 141571 141572 141573 141574 141575 141576 141577\n",
      " 141578 141579 141580 141581 141583 141584 141585 141586 141587 141588\n",
      " 141589 141590 141591 141592 141593 141594 141595 141596 141597 141598\n",
      " 141599 141600 141601 141603 141604 141605 141606 141607 141608 141609\n",
      " 141610 141611 141612 141613 141614 141615 141616 141617 141618 141619\n",
      " 141620 141621 141623 141624 141625 141626 141627 141628 141629 141630\n",
      " 141631 141632 141633 141634 141635 141636 141637 141638 141639 141640\n",
      " 141641 141643 141644 141645 141646 141647 141648 141649 141650 141651\n",
      " 141652 141653 141654 141655 141656 141657 141658 141659 141660 141661]\n",
      "[25, 26, 28, 29, 31, 33, 34, 36, 37, 39]\n",
      "[90900, 90919, 90927, 90949, 90955, 90962, 90969, 90979, 91020, 91028]\n"
     ]
    }
   ],
   "source": [
    "end_index_lab = list(np.load(\"end_index_lab.npy\"))\n",
    "print(end_index_lab[0:10])\n",
    "print(end_index_lab[-10:])\n",
    "print(idx_to_remove[0:100])\n",
    "print(idx_to_remove[-100:])\n",
    "def fix_end_labs(idx_to_remove, end_index_lab):\n",
    "    # Where to start (updated each time to allow only one pass)\n",
    "    start_idx = 0\n",
    "    for idx, curr_end_lab in enumerate(end_index_lab):\n",
    "        for removed_idx in idx_to_remove[start_idx:]:\n",
    "            if removed_idx <= curr_end_lab:\n",
    "                start_idx += 1\n",
    "            else:\n",
    "                end_index_lab[idx] -= start_idx\n",
    "                break\n",
    "    end_index_lab[-1] -= start_idx\n",
    "    return end_index_lab\n",
    "        \n",
    "end_index_lab = fix_end_labs(idx_to_remove, end_index_lab)\n",
    "print(end_index_lab[0:10])\n",
    "print(end_index_lab[-10:])"
   ]
  },
  {
   "cell_type": "code",
   "execution_count": 17,
   "metadata": {},
   "outputs": [
    {
     "data": {
      "text/plain": [
       "91028"
      ]
     },
     "execution_count": 17,
     "metadata": {},
     "output_type": "execute_result"
    }
   ],
   "source": [
    "len(lab_conc_filtered)"
   ]
  }
 ],
 "metadata": {
  "kernelspec": {
   "display_name": "Python 3",
   "language": "python",
   "name": "python3"
  },
  "language_info": {
   "codemirror_mode": {
    "name": "ipython",
    "version": 3
   },
   "file_extension": ".py",
   "mimetype": "text/x-python",
   "name": "python",
   "nbconvert_exporter": "python",
   "pygments_lexer": "ipython3",
   "version": "3.7.4"
  }
 },
 "nbformat": 4,
 "nbformat_minor": 4
}